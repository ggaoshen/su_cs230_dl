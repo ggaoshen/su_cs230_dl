{
 "cells": [
  {
   "cell_type": "markdown",
   "metadata": {},
   "source": [
    "https://www.alphavantage.co/documentation/#"
   ]
  },
  {
   "cell_type": "code",
   "execution_count": 3,
   "metadata": {},
   "outputs": [],
   "source": [
    "import alpha_vantage as alpha\n",
    "import numpy as np\n",
    "import pandas as pd"
   ]
  },
  {
   "cell_type": "code",
   "execution_count": 9,
   "metadata": {},
   "outputs": [],
   "source": [
    "from alpha_vantage.timeseries import TimeSeries\n",
    "ts = TimeSeries(key='YOUR_API_KEY', output_format='pandas')\n",
    "# Get json object with the intraday data and another with  the call's metadata\n",
    "data, meta_data = ts.get_intraday('GOOGL')"
   ]
  },
  {
   "cell_type": "code",
   "execution_count": 11,
   "metadata": {},
   "outputs": [
    {
     "data": {
      "text/html": [
       "<div>\n",
       "<style scoped>\n",
       "    .dataframe tbody tr th:only-of-type {\n",
       "        vertical-align: middle;\n",
       "    }\n",
       "\n",
       "    .dataframe tbody tr th {\n",
       "        vertical-align: top;\n",
       "    }\n",
       "\n",
       "    .dataframe thead th {\n",
       "        text-align: right;\n",
       "    }\n",
       "</style>\n",
       "<table border=\"1\" class=\"dataframe\">\n",
       "  <thead>\n",
       "    <tr style=\"text-align: right;\">\n",
       "      <th></th>\n",
       "      <th>1. open</th>\n",
       "      <th>2. high</th>\n",
       "      <th>3. low</th>\n",
       "      <th>4. close</th>\n",
       "      <th>5. volume</th>\n",
       "    </tr>\n",
       "    <tr>\n",
       "      <th>date</th>\n",
       "      <th></th>\n",
       "      <th></th>\n",
       "      <th></th>\n",
       "      <th></th>\n",
       "      <th></th>\n",
       "    </tr>\n",
       "  </thead>\n",
       "  <tbody>\n",
       "    <tr>\n",
       "      <td>2019-11-05 16:00:00</td>\n",
       "      <td>1292.2700</td>\n",
       "      <td>1293.1400</td>\n",
       "      <td>1291.2100</td>\n",
       "      <td>1291.4600</td>\n",
       "      <td>102667.0</td>\n",
       "    </tr>\n",
       "    <tr>\n",
       "      <td>2019-11-05 15:45:00</td>\n",
       "      <td>1293.0100</td>\n",
       "      <td>1293.2200</td>\n",
       "      <td>1292.1100</td>\n",
       "      <td>1292.2200</td>\n",
       "      <td>52799.0</td>\n",
       "    </tr>\n",
       "    <tr>\n",
       "      <td>2019-11-05 15:30:00</td>\n",
       "      <td>1294.4600</td>\n",
       "      <td>1294.5601</td>\n",
       "      <td>1293.1300</td>\n",
       "      <td>1293.1300</td>\n",
       "      <td>25316.0</td>\n",
       "    </tr>\n",
       "    <tr>\n",
       "      <td>2019-11-05 15:15:00</td>\n",
       "      <td>1293.8400</td>\n",
       "      <td>1294.5200</td>\n",
       "      <td>1293.2100</td>\n",
       "      <td>1294.4600</td>\n",
       "      <td>34912.0</td>\n",
       "    </tr>\n",
       "    <tr>\n",
       "      <td>2019-11-05 15:00:00</td>\n",
       "      <td>1293.8300</td>\n",
       "      <td>1294.3500</td>\n",
       "      <td>1293.6000</td>\n",
       "      <td>1293.6900</td>\n",
       "      <td>12393.0</td>\n",
       "    </tr>\n",
       "    <tr>\n",
       "      <td>...</td>\n",
       "      <td>...</td>\n",
       "      <td>...</td>\n",
       "      <td>...</td>\n",
       "      <td>...</td>\n",
       "      <td>...</td>\n",
       "    </tr>\n",
       "    <tr>\n",
       "      <td>2019-10-31 11:45:00</td>\n",
       "      <td>1254.7550</td>\n",
       "      <td>1255.5300</td>\n",
       "      <td>1253.7000</td>\n",
       "      <td>1255.3250</td>\n",
       "      <td>22706.0</td>\n",
       "    </tr>\n",
       "    <tr>\n",
       "      <td>2019-10-31 11:30:00</td>\n",
       "      <td>1257.0100</td>\n",
       "      <td>1257.2300</td>\n",
       "      <td>1254.3101</td>\n",
       "      <td>1254.6500</td>\n",
       "      <td>17447.0</td>\n",
       "    </tr>\n",
       "    <tr>\n",
       "      <td>2019-10-31 11:15:00</td>\n",
       "      <td>1258.1899</td>\n",
       "      <td>1258.2500</td>\n",
       "      <td>1256.4100</td>\n",
       "      <td>1256.5350</td>\n",
       "      <td>30573.0</td>\n",
       "    </tr>\n",
       "    <tr>\n",
       "      <td>2019-10-31 11:00:00</td>\n",
       "      <td>1254.6600</td>\n",
       "      <td>1258.0800</td>\n",
       "      <td>1254.6100</td>\n",
       "      <td>1258.0800</td>\n",
       "      <td>32395.0</td>\n",
       "    </tr>\n",
       "    <tr>\n",
       "      <td>2019-10-31 10:45:00</td>\n",
       "      <td>1253.7473</td>\n",
       "      <td>1255.1100</td>\n",
       "      <td>1251.0200</td>\n",
       "      <td>1254.1424</td>\n",
       "      <td>40269.0</td>\n",
       "    </tr>\n",
       "  </tbody>\n",
       "</table>\n",
       "<p>100 rows × 5 columns</p>\n",
       "</div>"
      ],
      "text/plain": [
       "                       1. open    2. high     3. low   4. close  5. volume\n",
       "date                                                                      \n",
       "2019-11-05 16:00:00  1292.2700  1293.1400  1291.2100  1291.4600   102667.0\n",
       "2019-11-05 15:45:00  1293.0100  1293.2200  1292.1100  1292.2200    52799.0\n",
       "2019-11-05 15:30:00  1294.4600  1294.5601  1293.1300  1293.1300    25316.0\n",
       "2019-11-05 15:15:00  1293.8400  1294.5200  1293.2100  1294.4600    34912.0\n",
       "2019-11-05 15:00:00  1293.8300  1294.3500  1293.6000  1293.6900    12393.0\n",
       "...                        ...        ...        ...        ...        ...\n",
       "2019-10-31 11:45:00  1254.7550  1255.5300  1253.7000  1255.3250    22706.0\n",
       "2019-10-31 11:30:00  1257.0100  1257.2300  1254.3101  1254.6500    17447.0\n",
       "2019-10-31 11:15:00  1258.1899  1258.2500  1256.4100  1256.5350    30573.0\n",
       "2019-10-31 11:00:00  1254.6600  1258.0800  1254.6100  1258.0800    32395.0\n",
       "2019-10-31 10:45:00  1253.7473  1255.1100  1251.0200  1254.1424    40269.0\n",
       "\n",
       "[100 rows x 5 columns]"
      ]
     },
     "execution_count": 11,
     "metadata": {},
     "output_type": "execute_result"
    }
   ],
   "source": [
    "data"
   ]
  },
  {
   "cell_type": "code",
   "execution_count": 16,
   "metadata": {},
   "outputs": [
    {
     "name": "stdout",
     "output_type": "stream",
     "text": [
      "                     1. open  2. high  3. low  4. close  5. volume\n",
      "date                                                              \n",
      "2019-11-05 16:00:00  144.520   144.61  144.41   144.460   363390.0\n",
      "2019-11-05 15:59:00  144.555   144.59  144.51   144.515   146142.0\n",
      "2019-11-05 15:58:00  144.585   144.60  144.54   144.555   106317.0\n",
      "2019-11-05 15:57:00  144.590   144.61  144.56   144.580    80633.0\n",
      "2019-11-05 15:56:00  144.645   144.66  144.53   144.590   136393.0\n"
     ]
    }
   ],
   "source": [
    "from alpha_vantage.timeseries import TimeSeries\n",
    "from pprint import pprint\n",
    "ts = TimeSeries(key='YOUR_API_KEY', output_format='pandas')\n",
    "data, meta_data = ts.get_intraday(symbol='MSFT',interval='1min', outputsize='full')\n",
    "pprint(data.head())"
   ]
  },
  {
   "cell_type": "code",
   "execution_count": 19,
   "metadata": {},
   "outputs": [
    {
     "data": {
      "image/png": "[encoded data removed]",
      "text/plain": [
       "<Figure size 432x288 with 1 Axes>"
      ]
     },
     "metadata": {
      "needs_background": "light"
     },
     "output_type": "display_data"
    }
   ],
   "source": [
    "from alpha_vantage.timeseries import TimeSeries\n",
    "import matplotlib.pyplot as plt\n",
    "\n",
    "ts = TimeSeries(key='YOUR_API_KEY', output_format='pandas')\n",
    "data, meta_data = ts.get_intraday(symbol='MSFT',interval='1min', outputsize='full')\n",
    "data['4. close'].plot()\n",
    "plt.title('Intraday Times Series for the MSFT stock (1 min)')\n",
    "plt.show()"
   ]
  },
  {
   "cell_type": "code",
   "execution_count": 18,
   "metadata": {},
   "outputs": [
    {
     "data": {
      "image/png": "[encoded data removed]",
      "text/plain": [
       "<Figure size 432x288 with 1 Axes>"
      ]
     },
     "metadata": {
      "needs_background": "light"
     },
     "output_type": "display_data"
    }
   ],
   "source": [
    "from alpha_vantage.sectorperformance import SectorPerformances\n",
    "import matplotlib.pyplot as plt\n",
    "\n",
    "sp = SectorPerformances(key='YOUR_API_KEY', output_format='pandas')\n",
    "data, meta_data = sp.get_sector()\n",
    "data['Rank A: Real-Time Performance'].plot(kind='bar')\n",
    "plt.title('Real Time Performance (%) per Sector')\n",
    "plt.tight_layout()\n",
    "plt.grid()\n",
    "plt.show()"
   ]
  },
  {
   "cell_type": "code",
   "execution_count": null,
   "metadata": {},
   "outputs": [],
   "source": []
  }
 ],
 "metadata": {
  "kernelspec": {
   "display_name": "Python 3",
   "language": "python",
   "name": "python3"
  },
  "language_info": {
   "codemirror_mode": {
    "name": "ipython",
    "version": 3
   },
   "file_extension": ".py",
   "mimetype": "text/x-python",
   "name": "python",
   "nbconvert_exporter": "python",
   "pygments_lexer": "ipython3",
   "version": "3.7.4"
  }
 },
 "nbformat": 4,
 "nbformat_minor": 2
}
