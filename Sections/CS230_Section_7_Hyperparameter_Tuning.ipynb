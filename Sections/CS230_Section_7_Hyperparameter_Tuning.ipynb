{
  "nbformat": 4,
  "nbformat_minor": 0,
  "metadata": {
    "colab": {
      "name": "CS230 Section 7 - Hyperparameter Tuning",
      "provenance": []
    },
    "kernelspec": {
      "name": "python3",
      "display_name": "Python 3"
    }
  },
  "cells": [
    {
      "cell_type": "markdown",
      "metadata": {
        "id": "tyGQqr5gvNey",
        "colab_type": "text"
      },
      "source": [
        "### Grid Search\n",
        "\n",
        "Works well when parameters are equally important."
      ]
    },
    {
      "cell_type": "code",
      "metadata": {
        "id": "dg_jCp25u2tz",
        "colab_type": "code",
        "colab": {}
      },
      "source": [
        "import numpy as np\n",
        "\n",
        "def f(x, y):\n",
        "  if x < 0 or y < 0 or x > 1 or y > 1:\n",
        "    return 0\n",
        "  return x + y"
      ],
      "execution_count": 0,
      "outputs": []
    },
    {
      "cell_type": "code",
      "metadata": {
        "id": "1i8VrhzDvSar",
        "colab_type": "code",
        "outputId": "45148b19-5ff2-4dcd-a2ab-b5492fc60053",
        "colab": {
          "base_uri": "https://localhost:8080/",
          "height": 34
        }
      },
      "source": [
        "def grid_search(fn, max_searches):\n",
        "  max_result = None\n",
        "  for x in np.linspace(0., 1., max_searches):\n",
        "    for y in np.linspace(0., 1., max_searches):\n",
        "      result = fn(x, y)\n",
        "      if max_result is None or result > max_result[-1]:\n",
        "        max_result = (x, y, result)\n",
        "  return max_result\n",
        "\n",
        "x, y, max_val = grid_search(f, 5)\n",
        "print(f\"Grid Search: Found max of {max_val} for f(x, y) at ({x},{y})\")"
      ],
      "execution_count": 0,
      "outputs": [
        {
          "output_type": "stream",
          "text": [
            "Grid Search: Found max of 2.0 for f(x, y) at (1.0,1.0)\n"
          ],
          "name": "stdout"
        }
      ]
    },
    {
      "cell_type": "markdown",
      "metadata": {
        "id": "C2iYDNCkxKUZ",
        "colab_type": "text"
      },
      "source": [
        "### Random Search\n",
        "\n",
        "Works well when some parameters are more important than others. However, assumes parameters are uncorrelated. Also doesn't use information from previous searches to inform future iterations (inefficient)."
      ]
    },
    {
      "cell_type": "code",
      "metadata": {
        "id": "Ri5JStkyvsXr",
        "colab_type": "code",
        "colab": {}
      },
      "source": [
        "def g(x, y):\n",
        "  if x < 0 or y < 0 or x > 1 or y > 1:\n",
        "    return 0\n",
        "  x_vals = [0.1, 0.15, 0.2, 0.15, 0.4, 0.6, 0.8, 0.6, 0.2, 0.1, 0.1]\n",
        "  y_vals = [0.1, 0.1, 0.15, 0.15, 0.15, 0.1, 0.15, 0.2, 0.15, 0.1, 0.1]\n",
        "\n",
        "  return 10*x_vals[int(x*10)] + y_vals[int(y*10)]"
      ],
      "execution_count": 0,
      "outputs": []
    },
    {
      "cell_type": "code",
      "metadata": {
        "id": "4_5RQX46xuR8",
        "colab_type": "code",
        "outputId": "c99c81b5-1333-4b97-cf70-6aa162cf43b1",
        "colab": {
          "base_uri": "https://localhost:8080/",
          "height": 34
        }
      },
      "source": [
        "x, y, max_val = grid_search(g, 5)\n",
        "print(f\"Grid Search: Found max of {max_val} for g(x, y) at ({x},{y})\")"
      ],
      "execution_count": 0,
      "outputs": [
        {
          "output_type": "stream",
          "text": [
            "Grid Search: Found max of 6.2 for g(x, y) at (0.5,0.75)\n"
          ],
          "name": "stdout"
        }
      ]
    },
    {
      "cell_type": "code",
      "metadata": {
        "id": "mw-UcOvAxy0G",
        "colab_type": "code",
        "colab": {}
      },
      "source": [
        "def random_search(fn, max_searches):\n",
        "  max_result = None\n",
        "  for _ in range(max_searches*max_searches):\n",
        "    x, y = np.random.random(), np.random.random()\n",
        "    result = fn(x, y)\n",
        "    if max_result is None or result > max_result[-1]:\n",
        "      max_result = (x, y, result)\n",
        "  return max_result"
      ],
      "execution_count": 0,
      "outputs": []
    },
    {
      "cell_type": "code",
      "metadata": {
        "id": "msXBxpTQyYnm",
        "colab_type": "code",
        "outputId": "925dabcf-6236-4cf2-f6eb-09aba131c451",
        "colab": {
          "base_uri": "https://localhost:8080/",
          "height": 34
        }
      },
      "source": [
        "x, y, max_val = random_search(g, 5)\n",
        "x, y, max_val = round(x, 4), round(y, 4), round(max_val, 4)\n",
        "print(f\"Random Search: Found max of {max_val} for f(x, y) at ({x},{y})\")"
      ],
      "execution_count": 0,
      "outputs": [
        {
          "output_type": "stream",
          "text": [
            "Random Search: Found max of 8.1 for f(x, y) at (0.6531,0.1364)\n"
          ],
          "name": "stdout"
        }
      ]
    },
    {
      "cell_type": "code",
      "metadata": {
        "id": "wIxlyT3LyZ-M",
        "colab_type": "code",
        "outputId": "b73f084f-2163-450a-f187-a3941ee761c8",
        "colab": {
          "base_uri": "https://localhost:8080/",
          "height": 34
        }
      },
      "source": [
        "x, y, max_val = random_search(f, 5)\n",
        "x, y, max_val = round(x, 4), round(y, 4), round(max_val, 4)\n",
        "print(f\"Random Search: Found max of {max_val} for f(x, y) at ({x},{y})\")"
      ],
      "execution_count": 0,
      "outputs": [
        {
          "output_type": "stream",
          "text": [
            "Random Search: Found max of 1.5151 for f(x, y) at (0.947,0.5681)\n"
          ],
          "name": "stdout"
        }
      ]
    },
    {
      "cell_type": "code",
      "metadata": {
        "id": "XvIeXlwVzHDc",
        "colab_type": "code",
        "colab": {}
      },
      "source": [
        ""
      ],
      "execution_count": 0,
      "outputs": []
    }
  ]
}