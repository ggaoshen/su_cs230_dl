{
 "cells": [
  {
   "cell_type": "code",
   "execution_count": 1,
   "metadata": {},
   "outputs": [],
   "source": [
    "import numpy as np\n",
    "import pandas as pd\n",
    "import matplotlib.pyplot as plt"
   ]
  },
  {
   "cell_type": "code",
   "execution_count": 81,
   "metadata": {},
   "outputs": [],
   "source": [
    "data1 = np.random.uniform(low=1.2, high=1.8, size=(100,2)).T\n",
    "x1, y1 = data1[0,:], data1[1,:]\n",
    "data2 = np.random.uniform(low=0, high=3, size=(500,2))\n",
    "x2, y2 = data2[:,0], data2[:,1]\n",
    "mask = ((x2<0.8) | (x2>2.2)) | ((y2<0.8) | (y2>2.2))\n",
    "x2=x2[mask]\n",
    "y2=y2[mask]\n",
    "data2=np.array([x2,y2])\n",
    "X=np.hstack((data1,data2))\n",
    "Y=np.zeros((1,X.shape[1]))\n",
    "Y[0][:100]=1"
   ]
  },
  {
   "cell_type": "code",
   "execution_count": 108,
   "metadata": {},
   "outputs": [
    {
     "data": {
      "image/png": "[encoded data removed]",
      "text/plain": [
       "<Figure size 432x288 with 1 Axes>"
      ]
     },
     "metadata": {
      "needs_background": "light"
     },
     "output_type": "display_data"
    }
   ],
   "source": [
    "def plot_data(X,Y):\n",
    "    df = pd.DataFrame(dict(x=X.T[:,0], y=X.T[:,1], label=np.squeeze(Y.T)))\n",
    "    colors = {0:'red', 1:'blue'}\n",
    "    fig, ax = plt.subplots()\n",
    "    grouped = df.groupby('label')\n",
    "    for key, group in grouped:\n",
    "        group.plot(ax=ax, kind='scatter', x='x', y='y', label=key, color=colors[key])\n",
    "    plt.show()\n",
    "plot_data(X,Y)"
   ]
  },
  {
   "cell_type": "code",
   "execution_count": 122,
   "metadata": {},
   "outputs": [],
   "source": [
    "# my answer\n",
    "w1=np.array([\n",
    "    [0, 1], \n",
    "    [0, 1],\n",
    "    [1, 0],\n",
    "    [1, 0]\n",
    "])\n",
    "\n",
    "b1=np.array([\n",
    "    [-2], \n",
    "    [-1],\n",
    "    [-2],\n",
    "    [-1]\n",
    "])\n",
    "\n",
    "w2=np.array([\n",
    "    [1], \n",
    "    [1],\n",
    "    [1],\n",
    "    [1]\n",
    "]).T\n",
    "\n",
    "b2=1"
   ]
  },
  {
   "cell_type": "code",
   "execution_count": 128,
   "metadata": {},
   "outputs": [],
   "source": [
    "# correct answer\n",
    "w1=np.array([\n",
    "    [0, -1], \n",
    "    [-1, 0],\n",
    "    [0, 1],\n",
    "    [1, 0]\n",
    "])\n",
    "\n",
    "b1=np.array([\n",
    "    [2], \n",
    "    [2],\n",
    "    [-1],\n",
    "    [-1]\n",
    "])\n",
    "\n",
    "w2=np.array([\n",
    "    [1], \n",
    "    [1],\n",
    "    [1],\n",
    "    [1]\n",
    "]).T\n",
    "\n",
    "b2=-4"
   ]
  },
  {
   "cell_type": "code",
   "execution_count": 129,
   "metadata": {},
   "outputs": [],
   "source": [
    "def nn(w1,b1,w2,b2,X):\n",
    "    z1=w1.dot(X)+b1\n",
    "    h = lambda x: np.piecewise(x, [x < 0, x >= 0], [0, 1])\n",
    "    f = lambda x: np.piecewise(x, [x < 0, x >= 0], [0, 1])\n",
    "    a1=h(z1)\n",
    "    print(w2.dot(a1)+b2)\n",
    "    output=f(w2.dot(a1)+b2)\n",
    "    return output"
   ]
  },
  {
   "cell_type": "code",
   "execution_count": 130,
   "metadata": {},
   "outputs": [
    {
     "name": "stdout",
     "output_type": "stream",
     "text": [
      "[[ 0.  0.  0.  0.  0.  0.  0.  0.  0.  0.  0.  0.  0.  0.  0.  0.  0.  0.\n",
      "   0.  0.  0.  0.  0.  0.  0.  0.  0.  0.  0.  0.  0.  0.  0.  0.  0.  0.\n",
      "   0.  0.  0.  0.  0.  0.  0.  0.  0.  0.  0.  0.  0.  0.  0.  0.  0.  0.\n",
      "   0.  0.  0.  0.  0.  0.  0.  0.  0.  0.  0.  0.  0.  0.  0.  0.  0.  0.\n",
      "   0.  0.  0.  0.  0.  0.  0.  0.  0.  0.  0.  0.  0.  0.  0.  0.  0.  0.\n",
      "   0.  0.  0.  0.  0.  0.  0.  0.  0.  0. -1. -2. -1. -2. -1. -1. -2. -1.\n",
      "  -1. -1. -1. -1. -1. -1. -1. -2. -2. -2. -1. -2. -2. -2. -2. -1. -2. -2.\n",
      "  -2. -1. -2. -1. -2. -1. -1. -2. -2. -1. -2. -1. -1. -1. -1. -1. -2. -2.\n",
      "  -1. -1. -2. -2. -1. -2. -2. -1. -2. -2. -1. -1. -2. -2. -1. -1. -2. -2.\n",
      "  -1. -2. -1. -2. -2. -1. -2. -2. -2. -2. -2. -1. -2. -2. -1. -2. -1. -2.\n",
      "  -2. -1. -2. -2. -1. -2. -1. -1. -1. -1. -1. -1. -2. -1. -2. -1. -1. -2.\n",
      "  -2. -1. -1. -2. -2. -1. -1. -2. -1. -1. -2. -2. -2. -2. -2. -1. -1. -2.\n",
      "  -2. -2. -2. -1. -2. -2. -1. -2. -1. -2. -1. -2. -2. -2. -2. -2. -1. -1.\n",
      "  -1. -2. -1. -2. -1. -2. -2. -2. -1. -2. -2. -1. -1. -1. -1. -1. -2. -2.\n",
      "  -2. -1. -1. -1. -2. -2. -2. -1. -1. -1. -1. -2. -1. -1. -2. -1. -2. -2.\n",
      "  -2. -2. -1. -1. -2. -2. -2. -2. -1. -2. -2. -2. -1. -1. -2. -2. -1. -1.\n",
      "  -2. -2. -1. -2. -1. -2. -2. -2. -2. -2. -1. -2. -2. -1. -1. -2. -2. -1.\n",
      "  -1. -1. -2. -1. -1. -1. -2. -2. -2. -1. -1. -2. -2. -2. -2. -1. -1. -1.\n",
      "  -1. -1. -1. -1. -2. -2. -2. -2. -1. -1. -2. -2. -2. -1. -1. -2. -1. -1.\n",
      "  -2. -1. -2. -1. -2. -2. -1. -1. -2. -2. -2. -1. -1. -2. -1. -1. -2. -1.\n",
      "  -2. -2. -2. -1. -1. -1. -1. -2. -1. -2. -1. -2. -2. -1. -2. -1. -2. -2.\n",
      "  -1. -2. -2. -2. -2. -2. -2. -1. -2. -1. -1. -1. -2. -1. -2. -1. -2. -1.\n",
      "  -2. -2. -2. -2. -1. -2. -2. -2. -1. -2. -1. -1. -1. -1. -1. -2. -2. -2.\n",
      "  -2. -2. -1. -2. -2. -2. -2. -1. -1. -2. -2. -1. -1. -2. -1. -2. -2. -2.\n",
      "  -1. -1. -1. -2. -1. -2. -1. -2. -1. -1. -1. -2. -1. -2. -2. -2. -1. -1.\n",
      "  -2. -2. -2. -1. -1. -2. -2. -1. -1. -1. -2. -2. -1. -2. -2. -1. -1. -2.\n",
      "  -1. -1. -2. -2. -1. -2. -2. -1. -1. -2. -2. -2. -1. -2. -2.]]\n"
     ]
    }
   ],
   "source": [
    "Y_hat = nn(w1,b1,w2,b2,X)"
   ]
  },
  {
   "cell_type": "code",
   "execution_count": 131,
   "metadata": {},
   "outputs": [
    {
     "data": {
      "text/plain": [
       "array([[1., 1., 1., 1., 1., 1., 1., 1., 1., 1., 1., 1., 1., 1., 1., 1.,\n",
       "        1., 1., 1., 1., 1., 1., 1., 1., 1., 1., 1., 1., 1., 1., 1., 1.,\n",
       "        1., 1., 1., 1., 1., 1., 1., 1., 1., 1., 1., 1., 1., 1., 1., 1.,\n",
       "        1., 1., 1., 1., 1., 1., 1., 1., 1., 1., 1., 1., 1., 1., 1., 1.,\n",
       "        1., 1., 1., 1., 1., 1., 1., 1., 1., 1., 1., 1., 1., 1., 1., 1.,\n",
       "        1., 1., 1., 1., 1., 1., 1., 1., 1., 1., 1., 1., 1., 1., 1., 1.,\n",
       "        1., 1., 1., 1., 0., 0., 0., 0., 0., 0., 0., 0., 0., 0., 0., 0.,\n",
       "        0., 0., 0., 0., 0., 0., 0., 0., 0., 0., 0., 0., 0., 0., 0., 0.,\n",
       "        0., 0., 0., 0., 0., 0., 0., 0., 0., 0., 0., 0., 0., 0., 0., 0.,\n",
       "        0., 0., 0., 0., 0., 0., 0., 0., 0., 0., 0., 0., 0., 0., 0., 0.,\n",
       "        0., 0., 0., 0., 0., 0., 0., 0., 0., 0., 0., 0., 0., 0., 0., 0.,\n",
       "        0., 0., 0., 0., 0., 0., 0., 0., 0., 0., 0., 0., 0., 0., 0., 0.,\n",
       "        0., 0., 0., 0., 0., 0., 0., 0., 0., 0., 0., 0., 0., 0., 0., 0.,\n",
       "        0., 0., 0., 0., 0., 0., 0., 0., 0., 0., 0., 0., 0., 0., 0., 0.,\n",
       "        0., 0., 0., 0., 0., 0., 0., 0., 0., 0., 0., 0., 0., 0., 0., 0.,\n",
       "        0., 0., 0., 0., 0., 0., 0., 0., 0., 0., 0., 0., 0., 0., 0., 0.,\n",
       "        0., 0., 0., 0., 0., 0., 0., 0., 0., 0., 0., 0., 0., 0., 0., 0.,\n",
       "        0., 0., 0., 0., 0., 0., 0., 0., 0., 0., 0., 0., 0., 0., 0., 0.,\n",
       "        0., 0., 0., 0., 0., 0., 0., 0., 0., 0., 0., 0., 0., 0., 0., 0.,\n",
       "        0., 0., 0., 0., 0., 0., 0., 0., 0., 0., 0., 0., 0., 0., 0., 0.,\n",
       "        0., 0., 0., 0., 0., 0., 0., 0., 0., 0., 0., 0., 0., 0., 0., 0.,\n",
       "        0., 0., 0., 0., 0., 0., 0., 0., 0., 0., 0., 0., 0., 0., 0., 0.,\n",
       "        0., 0., 0., 0., 0., 0., 0., 0., 0., 0., 0., 0., 0., 0., 0., 0.,\n",
       "        0., 0., 0., 0., 0., 0., 0., 0., 0., 0., 0., 0., 0., 0., 0., 0.,\n",
       "        0., 0., 0., 0., 0., 0., 0., 0., 0., 0., 0., 0., 0., 0., 0., 0.,\n",
       "        0., 0., 0., 0., 0., 0., 0., 0., 0., 0., 0., 0., 0., 0., 0., 0.,\n",
       "        0., 0., 0., 0., 0., 0., 0., 0., 0., 0., 0., 0., 0., 0., 0., 0.,\n",
       "        0., 0., 0., 0., 0., 0., 0., 0., 0., 0., 0., 0., 0., 0., 0., 0.,\n",
       "        0., 0., 0., 0., 0., 0., 0., 0., 0., 0., 0., 0., 0., 0., 0., 0.,\n",
       "        0., 0., 0., 0., 0., 0., 0., 0., 0., 0., 0., 0., 0., 0., 0., 0.,\n",
       "        0., 0., 0.]])"
      ]
     },
     "execution_count": 131,
     "metadata": {},
     "output_type": "execute_result"
    }
   ],
   "source": [
    "Y"
   ]
  },
  {
   "cell_type": "code",
   "execution_count": 132,
   "metadata": {},
   "outputs": [
    {
     "data": {
      "image/png": "[encoded data removed]",
      "text/plain": [
       "<Figure size 432x288 with 1 Axes>"
      ]
     },
     "metadata": {
      "needs_background": "light"
     },
     "output_type": "display_data"
    }
   ],
   "source": [
    "plot_data(X,Y_hat)"
   ]
  },
  {
   "cell_type": "code",
   "execution_count": null,
   "metadata": {},
   "outputs": [],
   "source": []
  },
  {
   "cell_type": "code",
   "execution_count": null,
   "metadata": {},
   "outputs": [],
   "source": []
  }
 ],
 "metadata": {
  "kernelspec": {
   "display_name": "Python 3",
   "language": "python",
   "name": "python3"
  },
  "language_info": {
   "codemirror_mode": {
    "name": "ipython",
    "version": 3
   },
   "file_extension": ".py",
   "mimetype": "text/x-python",
   "name": "python",
   "nbconvert_exporter": "python",
   "pygments_lexer": "ipython3",
   "version": "3.7.4"
  }
 },
 "nbformat": 4,
 "nbformat_minor": 2
}
